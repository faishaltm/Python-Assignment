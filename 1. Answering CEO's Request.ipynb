{
 "cells": [
  {
   "cell_type": "markdown",
   "id": "fc64077a",
   "metadata": {},
   "source": [
    "# Direct Analysis Response to Our CEO's Queries.\n",
    "\n",
    "Dear Mr. CEO,\n",
    "\n",
    "Thank you for reaching out with these queries. I've put together this notebook to provide detailed answers to each of your questions in a structured and transparent manner. \n",
    "\n",
    "## Breakdown of This Notebook:\n",
    "1. **Bryant Park Analysis**\n",
    "    - I'll be checking the number of data rows for Bryant Park and determining if there's a correlation with it being closed on weekends.\n",
    "\n",
    "<br>\n",
    "\n",
    "2. **Location with Highest Sales in a Single Day**\n",
    "    - I'll pinpoint which of our locations had the peak sales day and determine if there was something special about that particular day.\n",
    "\n",
    "<br>\n",
    "\n",
    "3. **Detailed Sales Analysis for a Particular Location**\n",
    "    - I'll explore its highest sales day.\n",
    "    - Additionally, I'll identify which location stood out the most on weekdays.\n",
    "\n",
    "<br>\n",
    "\n",
    "4. **Order Type Breakdown**\n",
    "    - I'll provide insights into the percentage of orders that are deliveries at each of our restaurants.\n",
    "\n",
    "<br>\n",
    "\n",
    "5. **Demand Analysis for Staffing**\n",
    "    - I'll visualize and explain the distribution of orders at each establishment, differentiating between weekdays and weekends.\n",
    "\n",
    "---\n",
    "\n",
    "Please scroll through the notebook to get in-depth responses to each point. If any clarifications or further information is required, don't hesitate to let me know.\n",
    "\n",
    "Warm regards,\n",
    "<br>\n",
    "Faishal Maoludyo"
   ]
  },
  {
   "cell_type": "markdown",
   "id": "3133f837",
   "metadata": {},
   "source": [
    "*Before we begin, I will import pandas as our main library and the data needed in this report.*"
   ]
  },
  {
   "cell_type": "code",
   "execution_count": 1,
   "id": "7c6f25ae",
   "metadata": {},
   "outputs": [],
   "source": [
    "import pandas as pd"
   ]
  },
  {
   "cell_type": "code",
   "execution_count": 2,
   "id": "1249a782",
   "metadata": {},
   "outputs": [],
   "source": [
    "df_summarized_orders = pd.read_csv('data/Summarized_orders.csv')\n",
    "df_restaurants = pd.read_csv('data/Restaurants.csv')\n",
    "df_orders = pd.read_csv('data/orders.csv')\n",
    "df_items = pd.read_csv('data/items.csv')"
   ]
  },
  {
   "cell_type": "markdown",
   "id": "40a36ac0",
   "metadata": {},
   "source": [
    "## 1st Question: Bryant Park Analysis"
   ]
  },
  {
   "cell_type": "markdown",
   "id": "1647de6a",
   "metadata": {},
   "source": [
    "To answer your first question, let's look up and analyze the summarized_orders file."
   ]
  },
  {
   "cell_type": "code",
   "execution_count": 3,
   "id": "fe29014f",
   "metadata": {},
   "outputs": [
    {
     "data": {
      "text/html": [
       "<div>\n",
       "<style scoped>\n",
       "    .dataframe tbody tr th:only-of-type {\n",
       "        vertical-align: middle;\n",
       "    }\n",
       "\n",
       "    .dataframe tbody tr th {\n",
       "        vertical-align: top;\n",
       "    }\n",
       "\n",
       "    .dataframe thead th {\n",
       "        text-align: right;\n",
       "    }\n",
       "</style>\n",
       "<table border=\"1\" class=\"dataframe\">\n",
       "  <thead>\n",
       "    <tr style=\"text-align: right;\">\n",
       "      <th></th>\n",
       "      <th>RESTAURANTS</th>\n",
       "      <th>DATE</th>\n",
       "      <th>NUM_ORD</th>\n",
       "      <th>PERC_DELIVERY</th>\n",
       "    </tr>\n",
       "  </thead>\n",
       "  <tbody>\n",
       "    <tr>\n",
       "      <th>0</th>\n",
       "      <td>Bryant Park</td>\n",
       "      <td>2018-01-01</td>\n",
       "      <td>373</td>\n",
       "      <td>0.000000</td>\n",
       "    </tr>\n",
       "    <tr>\n",
       "      <th>1</th>\n",
       "      <td>Bryant Park</td>\n",
       "      <td>2018-01-02</td>\n",
       "      <td>789</td>\n",
       "      <td>0.000000</td>\n",
       "    </tr>\n",
       "    <tr>\n",
       "      <th>2</th>\n",
       "      <td>Bryant Park</td>\n",
       "      <td>2018-01-03</td>\n",
       "      <td>818</td>\n",
       "      <td>0.000000</td>\n",
       "    </tr>\n",
       "    <tr>\n",
       "      <th>3</th>\n",
       "      <td>Bryant Park</td>\n",
       "      <td>2018-01-04</td>\n",
       "      <td>782</td>\n",
       "      <td>0.000000</td>\n",
       "    </tr>\n",
       "    <tr>\n",
       "      <th>4</th>\n",
       "      <td>Bryant Park</td>\n",
       "      <td>2018-01-05</td>\n",
       "      <td>719</td>\n",
       "      <td>0.000000</td>\n",
       "    </tr>\n",
       "    <tr>\n",
       "      <th>...</th>\n",
       "      <td>...</td>\n",
       "      <td>...</td>\n",
       "      <td>...</td>\n",
       "      <td>...</td>\n",
       "    </tr>\n",
       "    <tr>\n",
       "      <th>2801</th>\n",
       "      <td>Williamsburg</td>\n",
       "      <td>2018-12-27</td>\n",
       "      <td>941</td>\n",
       "      <td>0.089267</td>\n",
       "    </tr>\n",
       "    <tr>\n",
       "      <th>2802</th>\n",
       "      <td>Williamsburg</td>\n",
       "      <td>2018-12-28</td>\n",
       "      <td>941</td>\n",
       "      <td>0.127524</td>\n",
       "    </tr>\n",
       "    <tr>\n",
       "      <th>2803</th>\n",
       "      <td>Williamsburg</td>\n",
       "      <td>2018-12-29</td>\n",
       "      <td>942</td>\n",
       "      <td>0.093418</td>\n",
       "    </tr>\n",
       "    <tr>\n",
       "      <th>2804</th>\n",
       "      <td>Williamsburg</td>\n",
       "      <td>2018-12-30</td>\n",
       "      <td>933</td>\n",
       "      <td>0.114684</td>\n",
       "    </tr>\n",
       "    <tr>\n",
       "      <th>2805</th>\n",
       "      <td>Williamsburg</td>\n",
       "      <td>2018-12-31</td>\n",
       "      <td>957</td>\n",
       "      <td>0.114943</td>\n",
       "    </tr>\n",
       "  </tbody>\n",
       "</table>\n",
       "<p>2806 rows × 4 columns</p>\n",
       "</div>"
      ],
      "text/plain": [
       "       RESTAURANTS        DATE  NUM_ORD  PERC_DELIVERY\n",
       "0      Bryant Park  2018-01-01      373       0.000000\n",
       "1      Bryant Park  2018-01-02      789       0.000000\n",
       "2      Bryant Park  2018-01-03      818       0.000000\n",
       "3      Bryant Park  2018-01-04      782       0.000000\n",
       "4      Bryant Park  2018-01-05      719       0.000000\n",
       "...            ...         ...      ...            ...\n",
       "2801  Williamsburg  2018-12-27      941       0.089267\n",
       "2802  Williamsburg  2018-12-28      941       0.127524\n",
       "2803  Williamsburg  2018-12-29      942       0.093418\n",
       "2804  Williamsburg  2018-12-30      933       0.114684\n",
       "2805  Williamsburg  2018-12-31      957       0.114943\n",
       "\n",
       "[2806 rows x 4 columns]"
      ]
     },
     "execution_count": 3,
     "metadata": {},
     "output_type": "execute_result"
    }
   ],
   "source": [
    "df_summarized_orders"
   ]
  },
  {
   "cell_type": "code",
   "execution_count": 4,
   "id": "00a0323e",
   "metadata": {},
   "outputs": [
    {
     "name": "stdout",
     "output_type": "stream",
     "text": [
      "<class 'pandas.core.frame.DataFrame'>\n",
      "RangeIndex: 2806 entries, 0 to 2805\n",
      "Data columns (total 4 columns):\n",
      " #   Column         Non-Null Count  Dtype  \n",
      "---  ------         --------------  -----  \n",
      " 0   RESTAURANTS    2806 non-null   object \n",
      " 1   DATE           2806 non-null   object \n",
      " 2   NUM_ORD        2806 non-null   int64  \n",
      " 3   PERC_DELIVERY  2806 non-null   float64\n",
      "dtypes: float64(1), int64(1), object(2)\n",
      "memory usage: 87.8+ KB\n"
     ]
    }
   ],
   "source": [
    "df_summarized_orders.info()"
   ]
  },
  {
   "cell_type": "code",
   "execution_count": 5,
   "id": "9e0b09f6",
   "metadata": {},
   "outputs": [
    {
     "data": {
      "text/plain": [
       "RESTAURANTS\n",
       "Columbia           365\n",
       "Flatiron           365\n",
       "Midtown            365\n",
       "NYU                365\n",
       "Upper West Side    365\n",
       "Williamsburg       365\n",
       "Upper East Side    355\n",
       "Bryant Park        261\n",
       "Name: count, dtype: int64"
      ]
     },
     "execution_count": 5,
     "metadata": {},
     "output_type": "execute_result"
    }
   ],
   "source": [
    "df_summarized_orders.RESTAURANTS.value_counts()"
   ]
  },
  {
   "cell_type": "markdown",
   "id": "7f0aaaf5",
   "metadata": {},
   "source": [
    "Based on this information, this is what the CEO meant by Bryan Park has 261 rows of data.\n",
    "\n",
    "Now, we have to check whether Byran Park is closed on the weekend. But first, let's change the data format in the `DATE` column to `Datetime` so we can start analyzing the dates."
   ]
  },
  {
   "cell_type": "code",
   "execution_count": 6,
   "id": "b17a7191",
   "metadata": {},
   "outputs": [],
   "source": [
    "df_summarized_orders.DATE = pd.to_datetime(df_summarized_orders.DATE)"
   ]
  },
  {
   "cell_type": "code",
   "execution_count": 7,
   "id": "9a944f34",
   "metadata": {},
   "outputs": [
    {
     "name": "stdout",
     "output_type": "stream",
     "text": [
      "<class 'pandas.core.frame.DataFrame'>\n",
      "RangeIndex: 2806 entries, 0 to 2805\n",
      "Data columns (total 4 columns):\n",
      " #   Column         Non-Null Count  Dtype         \n",
      "---  ------         --------------  -----         \n",
      " 0   RESTAURANTS    2806 non-null   object        \n",
      " 1   DATE           2806 non-null   datetime64[ns]\n",
      " 2   NUM_ORD        2806 non-null   int64         \n",
      " 3   PERC_DELIVERY  2806 non-null   float64       \n",
      "dtypes: datetime64[ns](1), float64(1), int64(1), object(1)\n",
      "memory usage: 87.8+ KB\n"
     ]
    }
   ],
   "source": [
    "df_summarized_orders.info()"
   ]
  },
  {
   "cell_type": "markdown",
   "id": "86d7bda5",
   "metadata": {},
   "source": [
    "After the data is ready to analyze, let's create a bar chart grouped by days of the week."
   ]
  },
  {
   "cell_type": "code",
   "execution_count": 8,
   "id": "168fca8d",
   "metadata": {},
   "outputs": [
    {
     "data": {
      "text/plain": [
       "<Axes: xlabel='DATE'>"
      ]
     },
     "execution_count": 8,
     "metadata": {},
     "output_type": "execute_result"
    },
    {
     "data": {
      "image/png": "[encoded data removed]",
      "text/plain": [
       "<Figure size 640x480 with 1 Axes>"
      ]
     },
     "metadata": {},
     "output_type": "display_data"
    }
   ],
   "source": [
    "df_summarized_orders.DATE.dt.dayofweek.value_counts().sort_index().plot(kind='bar')"
   ]
  },
  {
   "cell_type": "markdown",
   "id": "7d37782e",
   "metadata": {},
   "source": [
    "At first glance, we could see differences in the total days on Saturday (5) and Sunday (6). We could hypothesize that the differences were because Bryant Park was not open on the weekend.\n",
    "\n",
    "To check whether the hypothesis was right, we would analyze only the data of Bryant Park. Now, let's create a new dataframe only for Bryant Park."
   ]
  },
  {
   "cell_type": "code",
   "execution_count": 9,
   "id": "694748a9",
   "metadata": {},
   "outputs": [],
   "source": [
    "df_filtered = df_summarized_orders[df_summarized_orders.RESTAURANTS == 'Bryant Park']"
   ]
  },
  {
   "cell_type": "code",
   "execution_count": 10,
   "id": "0b1bffd3",
   "metadata": {},
   "outputs": [
    {
     "data": {
      "text/plain": [
       "<Axes: xlabel='DATE'>"
      ]
     },
     "execution_count": 10,
     "metadata": {},
     "output_type": "execute_result"
    },
    {
     "data": {
      "image/png": "[encoded data removed]",
      "text/plain": [
       "<Figure size 640x480 with 1 Axes>"
      ]
     },
     "metadata": {},
     "output_type": "display_data"
    }
   ],
   "source": [
    "df_filtered.DATE.dt.dayofweek.value_counts().sort_index().plot(kind='bar')"
   ]
  },
  {
   "cell_type": "markdown",
   "id": "a029f45c",
   "metadata": {},
   "source": [
    "**Answer** : based on the chart above, we could conclude that Bryant Park was not open on the weekend, as there are no data for Bryant Park on Saturday (5) and Sunday (6)"
   ]
  },
  {
   "cell_type": "markdown",
   "id": "b8797821",
   "metadata": {},
   "source": [
    "## 2nd Question : Location with Highest Sales in a Single Day"
   ]
  },
  {
   "cell_type": "markdown",
   "id": "2eb0fea6",
   "metadata": {},
   "source": [
    "To answer this question, let's analyze the highest sales among all stores."
   ]
  },
  {
   "cell_type": "code",
   "execution_count": 11,
   "id": "fe54598e",
   "metadata": {},
   "outputs": [
    {
     "data": {
      "text/html": [
       "<div>\n",
       "<style scoped>\n",
       "    .dataframe tbody tr th:only-of-type {\n",
       "        vertical-align: middle;\n",
       "    }\n",
       "\n",
       "    .dataframe tbody tr th {\n",
       "        vertical-align: top;\n",
       "    }\n",
       "\n",
       "    .dataframe thead th {\n",
       "        text-align: right;\n",
       "    }\n",
       "</style>\n",
       "<table border=\"1\" class=\"dataframe\">\n",
       "  <thead>\n",
       "    <tr style=\"text-align: right;\">\n",
       "      <th></th>\n",
       "      <th>RESTAURANTS</th>\n",
       "      <th>DATE</th>\n",
       "      <th>NUM_ORD</th>\n",
       "      <th>PERC_DELIVERY</th>\n",
       "    </tr>\n",
       "  </thead>\n",
       "  <tbody>\n",
       "    <tr>\n",
       "      <th>1530</th>\n",
       "      <td>NYU</td>\n",
       "      <td>2018-06-24</td>\n",
       "      <td>1396</td>\n",
       "      <td>0.063754</td>\n",
       "    </tr>\n",
       "    <tr>\n",
       "      <th>1397</th>\n",
       "      <td>NYU</td>\n",
       "      <td>2018-02-11</td>\n",
       "      <td>1381</td>\n",
       "      <td>0.099203</td>\n",
       "    </tr>\n",
       "    <tr>\n",
       "      <th>1406</th>\n",
       "      <td>NYU</td>\n",
       "      <td>2018-02-20</td>\n",
       "      <td>1371</td>\n",
       "      <td>0.068563</td>\n",
       "    </tr>\n",
       "    <tr>\n",
       "      <th>1410</th>\n",
       "      <td>NYU</td>\n",
       "      <td>2018-02-24</td>\n",
       "      <td>1361</td>\n",
       "      <td>0.085966</td>\n",
       "    </tr>\n",
       "    <tr>\n",
       "      <th>1683</th>\n",
       "      <td>NYU</td>\n",
       "      <td>2018-11-24</td>\n",
       "      <td>1353</td>\n",
       "      <td>0.105691</td>\n",
       "    </tr>\n",
       "    <tr>\n",
       "      <th>...</th>\n",
       "      <td>...</td>\n",
       "      <td>...</td>\n",
       "      <td>...</td>\n",
       "      <td>...</td>\n",
       "    </tr>\n",
       "    <tr>\n",
       "      <th>842</th>\n",
       "      <td>Flatiron</td>\n",
       "      <td>2018-08-05</td>\n",
       "      <td>386</td>\n",
       "      <td>0.116580</td>\n",
       "    </tr>\n",
       "    <tr>\n",
       "      <th>820</th>\n",
       "      <td>Flatiron</td>\n",
       "      <td>2018-07-14</td>\n",
       "      <td>374</td>\n",
       "      <td>0.117647</td>\n",
       "    </tr>\n",
       "    <tr>\n",
       "      <th>0</th>\n",
       "      <td>Bryant Park</td>\n",
       "      <td>2018-01-01</td>\n",
       "      <td>373</td>\n",
       "      <td>0.000000</td>\n",
       "    </tr>\n",
       "    <tr>\n",
       "      <th>1793</th>\n",
       "      <td>Upper East Side</td>\n",
       "      <td>2018-03-17</td>\n",
       "      <td>372</td>\n",
       "      <td>0.360215</td>\n",
       "    </tr>\n",
       "    <tr>\n",
       "      <th>1066</th>\n",
       "      <td>Midtown</td>\n",
       "      <td>2018-03-17</td>\n",
       "      <td>200</td>\n",
       "      <td>0.000000</td>\n",
       "    </tr>\n",
       "  </tbody>\n",
       "</table>\n",
       "<p>2806 rows × 4 columns</p>\n",
       "</div>"
      ],
      "text/plain": [
       "          RESTAURANTS       DATE  NUM_ORD  PERC_DELIVERY\n",
       "1530              NYU 2018-06-24     1396       0.063754\n",
       "1397              NYU 2018-02-11     1381       0.099203\n",
       "1406              NYU 2018-02-20     1371       0.068563\n",
       "1410              NYU 2018-02-24     1361       0.085966\n",
       "1683              NYU 2018-11-24     1353       0.105691\n",
       "...               ...        ...      ...            ...\n",
       "842          Flatiron 2018-08-05      386       0.116580\n",
       "820          Flatiron 2018-07-14      374       0.117647\n",
       "0         Bryant Park 2018-01-01      373       0.000000\n",
       "1793  Upper East Side 2018-03-17      372       0.360215\n",
       "1066          Midtown 2018-03-17      200       0.000000\n",
       "\n",
       "[2806 rows x 4 columns]"
      ]
     },
     "execution_count": 11,
     "metadata": {},
     "output_type": "execute_result"
    }
   ],
   "source": [
    "df_summarized_orders.sort_values('NUM_ORD', ascending=False)"
   ]
  },
  {
   "cell_type": "markdown",
   "id": "ca57f5f2",
   "metadata": {},
   "source": [
    "Based on the data above, we could see that the highest number of sales occurred in NYU at 2018-06-24.\n",
    "\n",
    "**Answer** : After doing further online research to find what was happening near NYU at 2018-06-24, we found out that there was a LGBTQ Pride march on that date. Here is the source: [LGBTQ Pride is Inclusive in New York City](https://abc7ny.com/original-originals-pride-week-nyc/3616262/). The restaurants was positively impacted by the march."
   ]
  },
  {
   "cell_type": "markdown",
   "id": "a490757f",
   "metadata": {},
   "source": [
    "## 3rd Question: Detailed Sales Analysis for a Particular Location"
   ]
  },
  {
   "cell_type": "markdown",
   "id": "e5073e2c",
   "metadata": {},
   "source": [
    "I will answer this question in two parts. The first part is finding the most sales at every location, and the other part is finding what location has the most sales on the weekday. \n",
    "\n",
    "To answer your first part of the question. I need to group the orders based on the locations and then find the highest sales for the particular locations."
   ]
  },
  {
   "cell_type": "code",
   "execution_count": 12,
   "id": "87d69bd3",
   "metadata": {},
   "outputs": [
    {
     "data": {
      "text/html": [
       "<div>\n",
       "<style scoped>\n",
       "    .dataframe tbody tr th:only-of-type {\n",
       "        vertical-align: middle;\n",
       "    }\n",
       "\n",
       "    .dataframe tbody tr th {\n",
       "        vertical-align: top;\n",
       "    }\n",
       "\n",
       "    .dataframe thead th {\n",
       "        text-align: right;\n",
       "    }\n",
       "</style>\n",
       "<table border=\"1\" class=\"dataframe\">\n",
       "  <thead>\n",
       "    <tr style=\"text-align: right;\">\n",
       "      <th></th>\n",
       "      <th>RESTAURANTS</th>\n",
       "      <th>DATE</th>\n",
       "      <th>NUM_ORD</th>\n",
       "      <th>PERC_DELIVERY</th>\n",
       "    </tr>\n",
       "  </thead>\n",
       "  <tbody>\n",
       "    <tr>\n",
       "      <th>0</th>\n",
       "      <td>Bryant Park</td>\n",
       "      <td>2018-01-01</td>\n",
       "      <td>373</td>\n",
       "      <td>0.000000</td>\n",
       "    </tr>\n",
       "    <tr>\n",
       "      <th>1</th>\n",
       "      <td>Bryant Park</td>\n",
       "      <td>2018-01-02</td>\n",
       "      <td>789</td>\n",
       "      <td>0.000000</td>\n",
       "    </tr>\n",
       "    <tr>\n",
       "      <th>2</th>\n",
       "      <td>Bryant Park</td>\n",
       "      <td>2018-01-03</td>\n",
       "      <td>818</td>\n",
       "      <td>0.000000</td>\n",
       "    </tr>\n",
       "    <tr>\n",
       "      <th>3</th>\n",
       "      <td>Bryant Park</td>\n",
       "      <td>2018-01-04</td>\n",
       "      <td>782</td>\n",
       "      <td>0.000000</td>\n",
       "    </tr>\n",
       "    <tr>\n",
       "      <th>4</th>\n",
       "      <td>Bryant Park</td>\n",
       "      <td>2018-01-05</td>\n",
       "      <td>719</td>\n",
       "      <td>0.000000</td>\n",
       "    </tr>\n",
       "    <tr>\n",
       "      <th>...</th>\n",
       "      <td>...</td>\n",
       "      <td>...</td>\n",
       "      <td>...</td>\n",
       "      <td>...</td>\n",
       "    </tr>\n",
       "    <tr>\n",
       "      <th>2801</th>\n",
       "      <td>Williamsburg</td>\n",
       "      <td>2018-12-27</td>\n",
       "      <td>941</td>\n",
       "      <td>0.089267</td>\n",
       "    </tr>\n",
       "    <tr>\n",
       "      <th>2802</th>\n",
       "      <td>Williamsburg</td>\n",
       "      <td>2018-12-28</td>\n",
       "      <td>941</td>\n",
       "      <td>0.127524</td>\n",
       "    </tr>\n",
       "    <tr>\n",
       "      <th>2803</th>\n",
       "      <td>Williamsburg</td>\n",
       "      <td>2018-12-29</td>\n",
       "      <td>942</td>\n",
       "      <td>0.093418</td>\n",
       "    </tr>\n",
       "    <tr>\n",
       "      <th>2804</th>\n",
       "      <td>Williamsburg</td>\n",
       "      <td>2018-12-30</td>\n",
       "      <td>933</td>\n",
       "      <td>0.114684</td>\n",
       "    </tr>\n",
       "    <tr>\n",
       "      <th>2805</th>\n",
       "      <td>Williamsburg</td>\n",
       "      <td>2018-12-31</td>\n",
       "      <td>957</td>\n",
       "      <td>0.114943</td>\n",
       "    </tr>\n",
       "  </tbody>\n",
       "</table>\n",
       "<p>2806 rows × 4 columns</p>\n",
       "</div>"
      ],
      "text/plain": [
       "       RESTAURANTS       DATE  NUM_ORD  PERC_DELIVERY\n",
       "0      Bryant Park 2018-01-01      373       0.000000\n",
       "1      Bryant Park 2018-01-02      789       0.000000\n",
       "2      Bryant Park 2018-01-03      818       0.000000\n",
       "3      Bryant Park 2018-01-04      782       0.000000\n",
       "4      Bryant Park 2018-01-05      719       0.000000\n",
       "...            ...        ...      ...            ...\n",
       "2801  Williamsburg 2018-12-27      941       0.089267\n",
       "2802  Williamsburg 2018-12-28      941       0.127524\n",
       "2803  Williamsburg 2018-12-29      942       0.093418\n",
       "2804  Williamsburg 2018-12-30      933       0.114684\n",
       "2805  Williamsburg 2018-12-31      957       0.114943\n",
       "\n",
       "[2806 rows x 4 columns]"
      ]
     },
     "execution_count": 12,
     "metadata": {},
     "output_type": "execute_result"
    }
   ],
   "source": [
    "df_summarized_orders"
   ]
  },
  {
   "cell_type": "markdown",
   "id": "153aa4ad",
   "metadata": {},
   "source": [
    "To find the highest sales in each location, I will find the index of the highest sales first. Here are the **index** of the highest sales (not the number of sales) in every location:"
   ]
  },
  {
   "cell_type": "code",
   "execution_count": 13,
   "id": "83980d4e",
   "metadata": {},
   "outputs": [
    {
     "data": {
      "text/plain": [
       "RESTAURANTS\n",
       "Bryant Park         250\n",
       "Columbia            330\n",
       "Flatiron            647\n",
       "Midtown            1293\n",
       "NYU                1530\n",
       "Upper East Side    2021\n",
       "Upper West Side    2383\n",
       "Williamsburg       2748\n",
       "Name: NUM_ORD, dtype: int64"
      ]
     },
     "execution_count": 13,
     "metadata": {},
     "output_type": "execute_result"
    }
   ],
   "source": [
    "idx = df_summarized_orders.groupby('RESTAURANTS')['NUM_ORD'].idxmax()\n",
    "idx"
   ]
  },
  {
   "cell_type": "markdown",
   "id": "49869bdf",
   "metadata": {},
   "source": [
    "After finding the index for the highest number of sales, let's locate the data using the `loc` function."
   ]
  },
  {
   "cell_type": "code",
   "execution_count": 14,
   "id": "e71b97af",
   "metadata": {},
   "outputs": [
    {
     "data": {
      "text/html": [
       "<div>\n",
       "<style scoped>\n",
       "    .dataframe tbody tr th:only-of-type {\n",
       "        vertical-align: middle;\n",
       "    }\n",
       "\n",
       "    .dataframe tbody tr th {\n",
       "        vertical-align: top;\n",
       "    }\n",
       "\n",
       "    .dataframe thead th {\n",
       "        text-align: right;\n",
       "    }\n",
       "</style>\n",
       "<table border=\"1\" class=\"dataframe\">\n",
       "  <thead>\n",
       "    <tr style=\"text-align: right;\">\n",
       "      <th></th>\n",
       "      <th>RESTAURANTS</th>\n",
       "      <th>DATE</th>\n",
       "      <th>NUM_ORD</th>\n",
       "      <th>PERC_DELIVERY</th>\n",
       "    </tr>\n",
       "  </thead>\n",
       "  <tbody>\n",
       "    <tr>\n",
       "      <th>250</th>\n",
       "      <td>Bryant Park</td>\n",
       "      <td>2018-12-17</td>\n",
       "      <td>1055</td>\n",
       "      <td>0.084360</td>\n",
       "    </tr>\n",
       "    <tr>\n",
       "      <th>330</th>\n",
       "      <td>Columbia</td>\n",
       "      <td>2018-03-11</td>\n",
       "      <td>833</td>\n",
       "      <td>0.080432</td>\n",
       "    </tr>\n",
       "    <tr>\n",
       "      <th>647</th>\n",
       "      <td>Flatiron</td>\n",
       "      <td>2018-01-22</td>\n",
       "      <td>1026</td>\n",
       "      <td>0.096491</td>\n",
       "    </tr>\n",
       "    <tr>\n",
       "      <th>1293</th>\n",
       "      <td>Midtown</td>\n",
       "      <td>2018-10-30</td>\n",
       "      <td>1191</td>\n",
       "      <td>0.094039</td>\n",
       "    </tr>\n",
       "    <tr>\n",
       "      <th>1530</th>\n",
       "      <td>NYU</td>\n",
       "      <td>2018-06-24</td>\n",
       "      <td>1396</td>\n",
       "      <td>0.063754</td>\n",
       "    </tr>\n",
       "    <tr>\n",
       "      <th>2021</th>\n",
       "      <td>Upper East Side</td>\n",
       "      <td>2018-11-04</td>\n",
       "      <td>999</td>\n",
       "      <td>0.127127</td>\n",
       "    </tr>\n",
       "    <tr>\n",
       "      <th>2383</th>\n",
       "      <td>Upper West Side</td>\n",
       "      <td>2018-11-04</td>\n",
       "      <td>1003</td>\n",
       "      <td>0.131605</td>\n",
       "    </tr>\n",
       "    <tr>\n",
       "      <th>2748</th>\n",
       "      <td>Williamsburg</td>\n",
       "      <td>2018-11-04</td>\n",
       "      <td>1146</td>\n",
       "      <td>0.057592</td>\n",
       "    </tr>\n",
       "  </tbody>\n",
       "</table>\n",
       "</div>"
      ],
      "text/plain": [
       "          RESTAURANTS       DATE  NUM_ORD  PERC_DELIVERY\n",
       "250       Bryant Park 2018-12-17     1055       0.084360\n",
       "330          Columbia 2018-03-11      833       0.080432\n",
       "647          Flatiron 2018-01-22     1026       0.096491\n",
       "1293          Midtown 2018-10-30     1191       0.094039\n",
       "1530              NYU 2018-06-24     1396       0.063754\n",
       "2021  Upper East Side 2018-11-04      999       0.127127\n",
       "2383  Upper West Side 2018-11-04     1003       0.131605\n",
       "2748     Williamsburg 2018-11-04     1146       0.057592"
      ]
     },
     "execution_count": 14,
     "metadata": {},
     "output_type": "execute_result"
    }
   ],
   "source": [
    "result = df_summarized_orders.loc[idx]\n",
    "result"
   ]
  },
  {
   "cell_type": "markdown",
   "id": "86c463a3",
   "metadata": {},
   "source": [
    "**Answer** : Based on the data above, we could see the highest number of orders for every restaurant. The highest number of orders was in NYU at 1396 orders on 2018-06-24, and the lowest was in Columbia at 833 orders on 2018-03-11."
   ]
  },
  {
   "cell_type": "markdown",
   "id": "6bf8c3dc",
   "metadata": {},
   "source": [
    "Now, let's move on to the second part of the question. \n",
    "\n",
    "To answer this part, we need to create a new dataframe while filtering the data only on weekdays."
   ]
  },
  {
   "cell_type": "code",
   "execution_count": 15,
   "id": "3bdaf1b7",
   "metadata": {},
   "outputs": [],
   "source": [
    "df_weekdays = df_summarized_orders[df_summarized_orders['DATE'].dt.weekday < 5]"
   ]
  },
  {
   "cell_type": "code",
   "execution_count": 16,
   "id": "ba4a102a",
   "metadata": {},
   "outputs": [
    {
     "data": {
      "text/html": [
       "<div>\n",
       "<style scoped>\n",
       "    .dataframe tbody tr th:only-of-type {\n",
       "        vertical-align: middle;\n",
       "    }\n",
       "\n",
       "    .dataframe tbody tr th {\n",
       "        vertical-align: top;\n",
       "    }\n",
       "\n",
       "    .dataframe thead th {\n",
       "        text-align: right;\n",
       "    }\n",
       "</style>\n",
       "<table border=\"1\" class=\"dataframe\">\n",
       "  <thead>\n",
       "    <tr style=\"text-align: right;\">\n",
       "      <th></th>\n",
       "      <th>RESTAURANTS</th>\n",
       "      <th>DATE</th>\n",
       "      <th>NUM_ORD</th>\n",
       "      <th>PERC_DELIVERY</th>\n",
       "    </tr>\n",
       "  </thead>\n",
       "  <tbody>\n",
       "    <tr>\n",
       "      <th>0</th>\n",
       "      <td>Bryant Park</td>\n",
       "      <td>2018-01-01</td>\n",
       "      <td>373</td>\n",
       "      <td>0.000000</td>\n",
       "    </tr>\n",
       "    <tr>\n",
       "      <th>1</th>\n",
       "      <td>Bryant Park</td>\n",
       "      <td>2018-01-02</td>\n",
       "      <td>789</td>\n",
       "      <td>0.000000</td>\n",
       "    </tr>\n",
       "    <tr>\n",
       "      <th>2</th>\n",
       "      <td>Bryant Park</td>\n",
       "      <td>2018-01-03</td>\n",
       "      <td>818</td>\n",
       "      <td>0.000000</td>\n",
       "    </tr>\n",
       "    <tr>\n",
       "      <th>3</th>\n",
       "      <td>Bryant Park</td>\n",
       "      <td>2018-01-04</td>\n",
       "      <td>782</td>\n",
       "      <td>0.000000</td>\n",
       "    </tr>\n",
       "    <tr>\n",
       "      <th>4</th>\n",
       "      <td>Bryant Park</td>\n",
       "      <td>2018-01-05</td>\n",
       "      <td>719</td>\n",
       "      <td>0.000000</td>\n",
       "    </tr>\n",
       "    <tr>\n",
       "      <th>...</th>\n",
       "      <td>...</td>\n",
       "      <td>...</td>\n",
       "      <td>...</td>\n",
       "      <td>...</td>\n",
       "    </tr>\n",
       "    <tr>\n",
       "      <th>2799</th>\n",
       "      <td>Williamsburg</td>\n",
       "      <td>2018-12-25</td>\n",
       "      <td>933</td>\n",
       "      <td>0.094319</td>\n",
       "    </tr>\n",
       "    <tr>\n",
       "      <th>2800</th>\n",
       "      <td>Williamsburg</td>\n",
       "      <td>2018-12-26</td>\n",
       "      <td>942</td>\n",
       "      <td>0.100849</td>\n",
       "    </tr>\n",
       "    <tr>\n",
       "      <th>2801</th>\n",
       "      <td>Williamsburg</td>\n",
       "      <td>2018-12-27</td>\n",
       "      <td>941</td>\n",
       "      <td>0.089267</td>\n",
       "    </tr>\n",
       "    <tr>\n",
       "      <th>2802</th>\n",
       "      <td>Williamsburg</td>\n",
       "      <td>2018-12-28</td>\n",
       "      <td>941</td>\n",
       "      <td>0.127524</td>\n",
       "    </tr>\n",
       "    <tr>\n",
       "      <th>2805</th>\n",
       "      <td>Williamsburg</td>\n",
       "      <td>2018-12-31</td>\n",
       "      <td>957</td>\n",
       "      <td>0.114943</td>\n",
       "    </tr>\n",
       "  </tbody>\n",
       "</table>\n",
       "<p>2078 rows × 4 columns</p>\n",
       "</div>"
      ],
      "text/plain": [
       "       RESTAURANTS       DATE  NUM_ORD  PERC_DELIVERY\n",
       "0      Bryant Park 2018-01-01      373       0.000000\n",
       "1      Bryant Park 2018-01-02      789       0.000000\n",
       "2      Bryant Park 2018-01-03      818       0.000000\n",
       "3      Bryant Park 2018-01-04      782       0.000000\n",
       "4      Bryant Park 2018-01-05      719       0.000000\n",
       "...            ...        ...      ...            ...\n",
       "2799  Williamsburg 2018-12-25      933       0.094319\n",
       "2800  Williamsburg 2018-12-26      942       0.100849\n",
       "2801  Williamsburg 2018-12-27      941       0.089267\n",
       "2802  Williamsburg 2018-12-28      941       0.127524\n",
       "2805  Williamsburg 2018-12-31      957       0.114943\n",
       "\n",
       "[2078 rows x 4 columns]"
      ]
     },
     "execution_count": 16,
     "metadata": {},
     "output_type": "execute_result"
    }
   ],
   "source": [
    "df_weekdays"
   ]
  },
  {
   "cell_type": "markdown",
   "id": "cc452ad7",
   "metadata": {},
   "source": [
    "After droping the weekends, we can start counting the data in the table."
   ]
  },
  {
   "cell_type": "code",
   "execution_count": 17,
   "id": "f349bdb7",
   "metadata": {},
   "outputs": [
    {
     "data": {
      "text/plain": [
       "RESTAURANTS\n",
       "NYU                306664\n",
       "Midtown            266121\n",
       "Flatiron           230495\n",
       "Bryant Park        227445\n",
       "Williamsburg       224101\n",
       "Upper West Side    200462\n",
       "Upper East Side    194268\n",
       "Columbia           178930\n",
       "Name: NUM_ORD, dtype: int64"
      ]
     },
     "execution_count": 17,
     "metadata": {},
     "output_type": "execute_result"
    }
   ],
   "source": [
    "df_weekdays.groupby('RESTAURANTS')['NUM_ORD'].sum().sort_values(ascending=False)"
   ]
  },
  {
   "cell_type": "code",
   "execution_count": 18,
   "id": "8a9d87ef",
   "metadata": {},
   "outputs": [
    {
     "data": {
      "text/plain": [
       "<Axes: xlabel='RESTAURANTS'>"
      ]
     },
     "execution_count": 18,
     "metadata": {},
     "output_type": "execute_result"
    },
    {
     "data": {
      "image/png": "[encoded data removed]",
      "text/plain": [
       "<Figure size 640x480 with 1 Axes>"
      ]
     },
     "metadata": {},
     "output_type": "display_data"
    }
   ],
   "source": [
    "df_weekdays.groupby('RESTAURANTS')['NUM_ORD'].sum().sort_values(ascending=False).plot(kind='bar')"
   ]
  },
  {
   "cell_type": "markdown",
   "id": "432582f7",
   "metadata": {},
   "source": [
    "**Answer** : based on the data above, we can see that NYU has the most sales on the weekdays at 306,664."
   ]
  },
  {
   "cell_type": "markdown",
   "id": "863b9662",
   "metadata": {},
   "source": [
    "## 4th Question : Order Type Analysis"
   ]
  },
  {
   "cell_type": "markdown",
   "id": "ca54f641",
   "metadata": {},
   "source": [
    "To answer this question, we need to count every delivery at every restaurant."
   ]
  },
  {
   "cell_type": "code",
   "execution_count": 19,
   "id": "86223db4",
   "metadata": {},
   "outputs": [
    {
     "data": {
      "text/html": [
       "<div>\n",
       "<style scoped>\n",
       "    .dataframe tbody tr th:only-of-type {\n",
       "        vertical-align: middle;\n",
       "    }\n",
       "\n",
       "    .dataframe tbody tr th {\n",
       "        vertical-align: top;\n",
       "    }\n",
       "\n",
       "    .dataframe thead th {\n",
       "        text-align: right;\n",
       "    }\n",
       "</style>\n",
       "<table border=\"1\" class=\"dataframe\">\n",
       "  <thead>\n",
       "    <tr style=\"text-align: right;\">\n",
       "      <th></th>\n",
       "      <th>ORDER_ID</th>\n",
       "      <th>DATETIME</th>\n",
       "      <th>RESTAURANT_ID</th>\n",
       "      <th>TYPE</th>\n",
       "      <th>DRINKS</th>\n",
       "      <th>COOKIES</th>\n",
       "      <th>MAIN</th>\n",
       "      <th>BASE</th>\n",
       "      <th>SIDE_1</th>\n",
       "      <th>SIDE_2</th>\n",
       "    </tr>\n",
       "  </thead>\n",
       "  <tbody>\n",
       "    <tr>\n",
       "      <th>0</th>\n",
       "      <td>O1820060</td>\n",
       "      <td>2018-10-11 17:25:50</td>\n",
       "      <td>R10002</td>\n",
       "      <td>IN_STORE</td>\n",
       "      <td>1.0</td>\n",
       "      <td>2.0</td>\n",
       "      <td>NaN</td>\n",
       "      <td>NaN</td>\n",
       "      <td>NaN</td>\n",
       "      <td>NaN</td>\n",
       "    </tr>\n",
       "    <tr>\n",
       "      <th>1</th>\n",
       "      <td>O1011112</td>\n",
       "      <td>2018-05-31 11:35:00</td>\n",
       "      <td>R10003</td>\n",
       "      <td>IN_STORE</td>\n",
       "      <td>0.0</td>\n",
       "      <td>0.0</td>\n",
       "      <td>NaN</td>\n",
       "      <td>NaN</td>\n",
       "      <td>NaN</td>\n",
       "      <td>NaN</td>\n",
       "    </tr>\n",
       "    <tr>\n",
       "      <th>2</th>\n",
       "      <td>O752854</td>\n",
       "      <td>2018-04-21 18:12:57</td>\n",
       "      <td>R10001</td>\n",
       "      <td>DELIVERY</td>\n",
       "      <td>0.0</td>\n",
       "      <td>2.0</td>\n",
       "      <td>I0</td>\n",
       "      <td>I7</td>\n",
       "      <td>I15</td>\n",
       "      <td>I14</td>\n",
       "    </tr>\n",
       "    <tr>\n",
       "      <th>3</th>\n",
       "      <td>O2076864</td>\n",
       "      <td>2018-11-17 12:50:52</td>\n",
       "      <td>R10005</td>\n",
       "      <td>PICKUP</td>\n",
       "      <td>1.0</td>\n",
       "      <td>0.0</td>\n",
       "      <td>I0</td>\n",
       "      <td>I5</td>\n",
       "      <td>I9</td>\n",
       "      <td>I12</td>\n",
       "    </tr>\n",
       "    <tr>\n",
       "      <th>4</th>\n",
       "      <td>O1988898</td>\n",
       "      <td>2018-11-04 18:37:24</td>\n",
       "      <td>R10008</td>\n",
       "      <td>IN_STORE</td>\n",
       "      <td>0.0</td>\n",
       "      <td>0.0</td>\n",
       "      <td>I1</td>\n",
       "      <td>I7</td>\n",
       "      <td>I9</td>\n",
       "      <td>I9</td>\n",
       "    </tr>\n",
       "    <tr>\n",
       "      <th>...</th>\n",
       "      <td>...</td>\n",
       "      <td>...</td>\n",
       "      <td>...</td>\n",
       "      <td>...</td>\n",
       "      <td>...</td>\n",
       "      <td>...</td>\n",
       "      <td>...</td>\n",
       "      <td>...</td>\n",
       "      <td>...</td>\n",
       "      <td>...</td>\n",
       "    </tr>\n",
       "    <tr>\n",
       "      <th>2387219</th>\n",
       "      <td>O420721</td>\n",
       "      <td>2018-03-04 17:59:51</td>\n",
       "      <td>R10004</td>\n",
       "      <td>IN_STORE</td>\n",
       "      <td>0.0</td>\n",
       "      <td>2.0</td>\n",
       "      <td>I3</td>\n",
       "      <td>I5</td>\n",
       "      <td>I15</td>\n",
       "      <td>I12</td>\n",
       "    </tr>\n",
       "    <tr>\n",
       "      <th>2387220</th>\n",
       "      <td>O1738792</td>\n",
       "      <td>2018-09-29 13:05:36</td>\n",
       "      <td>R10007</td>\n",
       "      <td>PICKUP</td>\n",
       "      <td>0.0</td>\n",
       "      <td>0.0</td>\n",
       "      <td>I1</td>\n",
       "      <td>I5</td>\n",
       "      <td>I15</td>\n",
       "      <td>I15</td>\n",
       "    </tr>\n",
       "    <tr>\n",
       "      <th>2387221</th>\n",
       "      <td>O858342</td>\n",
       "      <td>2018-05-07 18:23:24</td>\n",
       "      <td>R10006</td>\n",
       "      <td>DELIVERY</td>\n",
       "      <td>0.0</td>\n",
       "      <td>0.0</td>\n",
       "      <td>I2</td>\n",
       "      <td>I6</td>\n",
       "      <td>I9</td>\n",
       "      <td>I8</td>\n",
       "    </tr>\n",
       "    <tr>\n",
       "      <th>2387222</th>\n",
       "      <td>O2093417</td>\n",
       "      <td>2018-11-19 19:39:56</td>\n",
       "      <td>R10006</td>\n",
       "      <td>IN_STORE</td>\n",
       "      <td>0.0</td>\n",
       "      <td>1.0</td>\n",
       "      <td>I1</td>\n",
       "      <td>I7</td>\n",
       "      <td>I10</td>\n",
       "      <td>I10</td>\n",
       "    </tr>\n",
       "    <tr>\n",
       "      <th>2387223</th>\n",
       "      <td>O718185</td>\n",
       "      <td>2018-04-16 19:25:01</td>\n",
       "      <td>R10001</td>\n",
       "      <td>IN_STORE</td>\n",
       "      <td>0.0</td>\n",
       "      <td>0.0</td>\n",
       "      <td>I3</td>\n",
       "      <td>I7</td>\n",
       "      <td>I15</td>\n",
       "      <td>I10</td>\n",
       "    </tr>\n",
       "  </tbody>\n",
       "</table>\n",
       "<p>2387224 rows × 10 columns</p>\n",
       "</div>"
      ],
      "text/plain": [
       "         ORDER_ID             DATETIME RESTAURANT_ID      TYPE  DRINKS  \\\n",
       "0        O1820060  2018-10-11 17:25:50        R10002  IN_STORE     1.0   \n",
       "1        O1011112  2018-05-31 11:35:00        R10003  IN_STORE     0.0   \n",
       "2         O752854  2018-04-21 18:12:57        R10001  DELIVERY     0.0   \n",
       "3        O2076864  2018-11-17 12:50:52        R10005    PICKUP     1.0   \n",
       "4        O1988898  2018-11-04 18:37:24        R10008  IN_STORE     0.0   \n",
       "...           ...                  ...           ...       ...     ...   \n",
       "2387219   O420721  2018-03-04 17:59:51        R10004  IN_STORE     0.0   \n",
       "2387220  O1738792  2018-09-29 13:05:36        R10007    PICKUP     0.0   \n",
       "2387221   O858342  2018-05-07 18:23:24        R10006  DELIVERY     0.0   \n",
       "2387222  O2093417  2018-11-19 19:39:56        R10006  IN_STORE     0.0   \n",
       "2387223   O718185  2018-04-16 19:25:01        R10001  IN_STORE     0.0   \n",
       "\n",
       "         COOKIES MAIN BASE SIDE_1 SIDE_2  \n",
       "0            2.0  NaN  NaN    NaN    NaN  \n",
       "1            0.0  NaN  NaN    NaN    NaN  \n",
       "2            2.0   I0   I7    I15    I14  \n",
       "3            0.0   I0   I5     I9    I12  \n",
       "4            0.0   I1   I7     I9     I9  \n",
       "...          ...  ...  ...    ...    ...  \n",
       "2387219      2.0   I3   I5    I15    I12  \n",
       "2387220      0.0   I1   I5    I15    I15  \n",
       "2387221      0.0   I2   I6     I9     I8  \n",
       "2387222      1.0   I1   I7    I10    I10  \n",
       "2387223      0.0   I3   I7    I15    I10  \n",
       "\n",
       "[2387224 rows x 10 columns]"
      ]
     },
     "execution_count": 19,
     "metadata": {},
     "output_type": "execute_result"
    }
   ],
   "source": [
    "df_orders"
   ]
  },
  {
   "cell_type": "code",
   "execution_count": 20,
   "id": "858c1dd2",
   "metadata": {},
   "outputs": [
    {
     "data": {
      "text/html": [
       "<div>\n",
       "<style scoped>\n",
       "    .dataframe tbody tr th:only-of-type {\n",
       "        vertical-align: middle;\n",
       "    }\n",
       "\n",
       "    .dataframe tbody tr th {\n",
       "        vertical-align: top;\n",
       "    }\n",
       "\n",
       "    .dataframe thead th {\n",
       "        text-align: right;\n",
       "    }\n",
       "</style>\n",
       "<table border=\"1\" class=\"dataframe\">\n",
       "  <thead>\n",
       "    <tr style=\"text-align: right;\">\n",
       "      <th></th>\n",
       "      <th>RESTAURANT_ID</th>\n",
       "      <th>NAME</th>\n",
       "      <th>ADDRESS</th>\n",
       "      <th>LAT</th>\n",
       "      <th>LONG</th>\n",
       "      <th>OPENING_DATE</th>\n",
       "      <th>DELIVERY_START</th>\n",
       "    </tr>\n",
       "  </thead>\n",
       "  <tbody>\n",
       "    <tr>\n",
       "      <th>0</th>\n",
       "      <td>R10001</td>\n",
       "      <td>Columbia</td>\n",
       "      <td>2884 Broadway, New York, NY 10025</td>\n",
       "      <td>40.811470</td>\n",
       "      <td>-73.961230</td>\n",
       "      <td>8/9/2014</td>\n",
       "      <td>2017-01-01</td>\n",
       "    </tr>\n",
       "    <tr>\n",
       "      <th>1</th>\n",
       "      <td>R10002</td>\n",
       "      <td>Midtown</td>\n",
       "      <td>1379 6th Ave, New York, NY 10019</td>\n",
       "      <td>40.763640</td>\n",
       "      <td>-73.977960</td>\n",
       "      <td>3/19/2013</td>\n",
       "      <td>2018-05-01</td>\n",
       "    </tr>\n",
       "    <tr>\n",
       "      <th>2</th>\n",
       "      <td>R10005</td>\n",
       "      <td>Flatiron</td>\n",
       "      <td>40 W 25th St, New York, NY 10010</td>\n",
       "      <td>40.743600</td>\n",
       "      <td>-73.991070</td>\n",
       "      <td>11/14/2013</td>\n",
       "      <td>2016-03-05</td>\n",
       "    </tr>\n",
       "    <tr>\n",
       "      <th>3</th>\n",
       "      <td>R10008</td>\n",
       "      <td>Williamsburg</td>\n",
       "      <td>45 S 3rd St, Brooklyn, NY 11249</td>\n",
       "      <td>40.713749</td>\n",
       "      <td>-73.965782</td>\n",
       "      <td>10/12/2015</td>\n",
       "      <td>2017-01-01</td>\n",
       "    </tr>\n",
       "    <tr>\n",
       "      <th>4</th>\n",
       "      <td>R10004</td>\n",
       "      <td>NYU</td>\n",
       "      <td>109 Macdougal St, New York, NY 10012</td>\n",
       "      <td>40.729930</td>\n",
       "      <td>-74.000820</td>\n",
       "      <td>1/10/2014</td>\n",
       "      <td>2017-01-01</td>\n",
       "    </tr>\n",
       "    <tr>\n",
       "      <th>5</th>\n",
       "      <td>R10003</td>\n",
       "      <td>Bryant Park</td>\n",
       "      <td>70 W 40th St, New York, NY 10018</td>\n",
       "      <td>40.752911</td>\n",
       "      <td>-73.983498</td>\n",
       "      <td>5/21/2013</td>\n",
       "      <td>2018-05-01</td>\n",
       "    </tr>\n",
       "    <tr>\n",
       "      <th>6</th>\n",
       "      <td>R10006</td>\n",
       "      <td>Upper East Side</td>\n",
       "      <td>1045 Lexington Ave, New York, NY 10021</td>\n",
       "      <td>40.772010</td>\n",
       "      <td>-73.960780</td>\n",
       "      <td>5/29/2014</td>\n",
       "      <td>2017-08-02</td>\n",
       "    </tr>\n",
       "    <tr>\n",
       "      <th>7</th>\n",
       "      <td>R10007</td>\n",
       "      <td>Upper West Side</td>\n",
       "      <td>2140 Broadway, New York, NY 10023</td>\n",
       "      <td>40.775430</td>\n",
       "      <td>-73.982050</td>\n",
       "      <td>2/2/2015</td>\n",
       "      <td>2017-08-02</td>\n",
       "    </tr>\n",
       "  </tbody>\n",
       "</table>\n",
       "</div>"
      ],
      "text/plain": [
       "  RESTAURANT_ID             NAME                                 ADDRESS  \\\n",
       "0        R10001         Columbia       2884 Broadway, New York, NY 10025   \n",
       "1        R10002          Midtown        1379 6th Ave, New York, NY 10019   \n",
       "2        R10005         Flatiron        40 W 25th St, New York, NY 10010   \n",
       "3        R10008     Williamsburg         45 S 3rd St, Brooklyn, NY 11249   \n",
       "4        R10004              NYU    109 Macdougal St, New York, NY 10012   \n",
       "5        R10003      Bryant Park        70 W 40th St, New York, NY 10018   \n",
       "6        R10006  Upper East Side  1045 Lexington Ave, New York, NY 10021   \n",
       "7        R10007  Upper West Side       2140 Broadway, New York, NY 10023   \n",
       "\n",
       "         LAT       LONG OPENING_DATE DELIVERY_START  \n",
       "0  40.811470 -73.961230     8/9/2014     2017-01-01  \n",
       "1  40.763640 -73.977960    3/19/2013     2018-05-01  \n",
       "2  40.743600 -73.991070   11/14/2013     2016-03-05  \n",
       "3  40.713749 -73.965782   10/12/2015     2017-01-01  \n",
       "4  40.729930 -74.000820    1/10/2014     2017-01-01  \n",
       "5  40.752911 -73.983498    5/21/2013     2018-05-01  \n",
       "6  40.772010 -73.960780    5/29/2014     2017-08-02  \n",
       "7  40.775430 -73.982050     2/2/2015     2017-08-02  "
      ]
     },
     "execution_count": 20,
     "metadata": {},
     "output_type": "execute_result"
    }
   ],
   "source": [
    "df_restaurants"
   ]
  },
  {
   "cell_type": "markdown",
   "id": "213b5711",
   "metadata": {},
   "source": [
    "To make your analysis easier, I would like to change the `Restaurant_ID` to the name of the restaurants based on `df_restaurants`, and assign that to a new dataframe named `df_rename`."
   ]
  },
  {
   "cell_type": "code",
   "execution_count": 21,
   "id": "7b6c8a3d",
   "metadata": {},
   "outputs": [],
   "source": [
    "df_rename = df_orders.replace({\"R10001\":\"Columbia\", \"R10002\":\"Midtown\",\"R10005\":\"Flatiron\", \"R10008\":\"Williamsburg\", \"R10004\":\"NYU\", \"R10003\":\"Bryant Park\", \"R10006\":\"Upper East Side\", \"R10007\":\"Upper West Side\"})"
   ]
  },
  {
   "cell_type": "markdown",
   "id": "ae04c689",
   "metadata": {},
   "source": [
    "After that, let's group the data based on the restaurant and count every portion type of delivery."
   ]
  },
  {
   "cell_type": "code",
   "execution_count": 22,
   "id": "48712e69",
   "metadata": {},
   "outputs": [
    {
     "data": {
      "text/plain": [
       "RESTAURANT_ID    TYPE    \n",
       "Bryant Park      IN_STORE    0.754002\n",
       "                 PICKUP      0.177353\n",
       "                 DELIVERY    0.068645\n",
       "Columbia         IN_STORE    0.728053\n",
       "                 PICKUP      0.171285\n",
       "                 DELIVERY    0.100662\n",
       "Flatiron         IN_STORE    0.725600\n",
       "                 PICKUP      0.172056\n",
       "                 DELIVERY    0.102343\n",
       "Midtown          IN_STORE    0.753170\n",
       "                 PICKUP      0.178024\n",
       "                 DELIVERY    0.068805\n",
       "NYU              IN_STORE    0.730706\n",
       "                 PICKUP      0.168774\n",
       "                 DELIVERY    0.100520\n",
       "Upper East Side  IN_STORE    0.656743\n",
       "                 DELIVERY    0.189381\n",
       "                 PICKUP      0.153876\n",
       "Upper West Side  IN_STORE    0.656462\n",
       "                 DELIVERY    0.189686\n",
       "                 PICKUP      0.153852\n",
       "Williamsburg     IN_STORE    0.729094\n",
       "                 PICKUP      0.169779\n",
       "                 DELIVERY    0.101127\n",
       "Name: proportion, dtype: float64"
      ]
     },
     "execution_count": 22,
     "metadata": {},
     "output_type": "execute_result"
    }
   ],
   "source": [
    "df_rename.groupby('RESTAURANT_ID')['TYPE'].value_counts(normalize=True)"
   ]
  },
  {
   "cell_type": "markdown",
   "id": "5cc9b560",
   "metadata": {},
   "source": [
    "**Answer** : Based on the data above, we could conclude that delivery orders ranged from approximately 6% to approximately 18% of total orders. The least restaurant with delivery orders was Bryant Park at 6,8645%, and the most restaurants with delivery orders was Upper West Side at 18,968%."
   ]
  },
  {
   "cell_type": "markdown",
   "id": "134b3cdf",
   "metadata": {},
   "source": [
    "## 5th Question : Demand Analysis for Staffing"
   ]
  },
  {
   "cell_type": "markdown",
   "id": "af293b04",
   "metadata": {},
   "source": [
    "To answer your last question, I first need to create a new column named `DAY_TYPE` to group data, whether weekday or weekend."
   ]
  },
  {
   "cell_type": "code",
   "execution_count": 23,
   "id": "f88de2d4",
   "metadata": {},
   "outputs": [
    {
     "data": {
      "text/html": [
       "<div>\n",
       "<style scoped>\n",
       "    .dataframe tbody tr th:only-of-type {\n",
       "        vertical-align: middle;\n",
       "    }\n",
       "\n",
       "    .dataframe tbody tr th {\n",
       "        vertical-align: top;\n",
       "    }\n",
       "\n",
       "    .dataframe thead th {\n",
       "        text-align: right;\n",
       "    }\n",
       "</style>\n",
       "<table border=\"1\" class=\"dataframe\">\n",
       "  <thead>\n",
       "    <tr style=\"text-align: right;\">\n",
       "      <th></th>\n",
       "      <th>RESTAURANTS</th>\n",
       "      <th>DATE</th>\n",
       "      <th>NUM_ORD</th>\n",
       "      <th>PERC_DELIVERY</th>\n",
       "    </tr>\n",
       "  </thead>\n",
       "  <tbody>\n",
       "    <tr>\n",
       "      <th>0</th>\n",
       "      <td>Bryant Park</td>\n",
       "      <td>2018-01-01</td>\n",
       "      <td>373</td>\n",
       "      <td>0.000000</td>\n",
       "    </tr>\n",
       "    <tr>\n",
       "      <th>1</th>\n",
       "      <td>Bryant Park</td>\n",
       "      <td>2018-01-02</td>\n",
       "      <td>789</td>\n",
       "      <td>0.000000</td>\n",
       "    </tr>\n",
       "    <tr>\n",
       "      <th>2</th>\n",
       "      <td>Bryant Park</td>\n",
       "      <td>2018-01-03</td>\n",
       "      <td>818</td>\n",
       "      <td>0.000000</td>\n",
       "    </tr>\n",
       "    <tr>\n",
       "      <th>3</th>\n",
       "      <td>Bryant Park</td>\n",
       "      <td>2018-01-04</td>\n",
       "      <td>782</td>\n",
       "      <td>0.000000</td>\n",
       "    </tr>\n",
       "    <tr>\n",
       "      <th>4</th>\n",
       "      <td>Bryant Park</td>\n",
       "      <td>2018-01-05</td>\n",
       "      <td>719</td>\n",
       "      <td>0.000000</td>\n",
       "    </tr>\n",
       "    <tr>\n",
       "      <th>...</th>\n",
       "      <td>...</td>\n",
       "      <td>...</td>\n",
       "      <td>...</td>\n",
       "      <td>...</td>\n",
       "    </tr>\n",
       "    <tr>\n",
       "      <th>2801</th>\n",
       "      <td>Williamsburg</td>\n",
       "      <td>2018-12-27</td>\n",
       "      <td>941</td>\n",
       "      <td>0.089267</td>\n",
       "    </tr>\n",
       "    <tr>\n",
       "      <th>2802</th>\n",
       "      <td>Williamsburg</td>\n",
       "      <td>2018-12-28</td>\n",
       "      <td>941</td>\n",
       "      <td>0.127524</td>\n",
       "    </tr>\n",
       "    <tr>\n",
       "      <th>2803</th>\n",
       "      <td>Williamsburg</td>\n",
       "      <td>2018-12-29</td>\n",
       "      <td>942</td>\n",
       "      <td>0.093418</td>\n",
       "    </tr>\n",
       "    <tr>\n",
       "      <th>2804</th>\n",
       "      <td>Williamsburg</td>\n",
       "      <td>2018-12-30</td>\n",
       "      <td>933</td>\n",
       "      <td>0.114684</td>\n",
       "    </tr>\n",
       "    <tr>\n",
       "      <th>2805</th>\n",
       "      <td>Williamsburg</td>\n",
       "      <td>2018-12-31</td>\n",
       "      <td>957</td>\n",
       "      <td>0.114943</td>\n",
       "    </tr>\n",
       "  </tbody>\n",
       "</table>\n",
       "<p>2806 rows × 4 columns</p>\n",
       "</div>"
      ],
      "text/plain": [
       "       RESTAURANTS       DATE  NUM_ORD  PERC_DELIVERY\n",
       "0      Bryant Park 2018-01-01      373       0.000000\n",
       "1      Bryant Park 2018-01-02      789       0.000000\n",
       "2      Bryant Park 2018-01-03      818       0.000000\n",
       "3      Bryant Park 2018-01-04      782       0.000000\n",
       "4      Bryant Park 2018-01-05      719       0.000000\n",
       "...            ...        ...      ...            ...\n",
       "2801  Williamsburg 2018-12-27      941       0.089267\n",
       "2802  Williamsburg 2018-12-28      941       0.127524\n",
       "2803  Williamsburg 2018-12-29      942       0.093418\n",
       "2804  Williamsburg 2018-12-30      933       0.114684\n",
       "2805  Williamsburg 2018-12-31      957       0.114943\n",
       "\n",
       "[2806 rows x 4 columns]"
      ]
     },
     "execution_count": 23,
     "metadata": {},
     "output_type": "execute_result"
    }
   ],
   "source": [
    "df_summarized_orders"
   ]
  },
  {
   "cell_type": "code",
   "execution_count": 24,
   "id": "5090bb5e",
   "metadata": {},
   "outputs": [
    {
     "data": {
      "text/html": [
       "<div>\n",
       "<style scoped>\n",
       "    .dataframe tbody tr th:only-of-type {\n",
       "        vertical-align: middle;\n",
       "    }\n",
       "\n",
       "    .dataframe tbody tr th {\n",
       "        vertical-align: top;\n",
       "    }\n",
       "\n",
       "    .dataframe thead th {\n",
       "        text-align: right;\n",
       "    }\n",
       "</style>\n",
       "<table border=\"1\" class=\"dataframe\">\n",
       "  <thead>\n",
       "    <tr style=\"text-align: right;\">\n",
       "      <th></th>\n",
       "      <th>RESTAURANTS</th>\n",
       "      <th>DATE</th>\n",
       "      <th>NUM_ORD</th>\n",
       "      <th>PERC_DELIVERY</th>\n",
       "      <th>DAY_TYPE</th>\n",
       "    </tr>\n",
       "  </thead>\n",
       "  <tbody>\n",
       "    <tr>\n",
       "      <th>0</th>\n",
       "      <td>Bryant Park</td>\n",
       "      <td>2018-01-01</td>\n",
       "      <td>373</td>\n",
       "      <td>0.000000</td>\n",
       "      <td>WEEKDAYS</td>\n",
       "    </tr>\n",
       "    <tr>\n",
       "      <th>1</th>\n",
       "      <td>Bryant Park</td>\n",
       "      <td>2018-01-02</td>\n",
       "      <td>789</td>\n",
       "      <td>0.000000</td>\n",
       "      <td>WEEKDAYS</td>\n",
       "    </tr>\n",
       "    <tr>\n",
       "      <th>2</th>\n",
       "      <td>Bryant Park</td>\n",
       "      <td>2018-01-03</td>\n",
       "      <td>818</td>\n",
       "      <td>0.000000</td>\n",
       "      <td>WEEKDAYS</td>\n",
       "    </tr>\n",
       "    <tr>\n",
       "      <th>3</th>\n",
       "      <td>Bryant Park</td>\n",
       "      <td>2018-01-04</td>\n",
       "      <td>782</td>\n",
       "      <td>0.000000</td>\n",
       "      <td>WEEKDAYS</td>\n",
       "    </tr>\n",
       "    <tr>\n",
       "      <th>4</th>\n",
       "      <td>Bryant Park</td>\n",
       "      <td>2018-01-05</td>\n",
       "      <td>719</td>\n",
       "      <td>0.000000</td>\n",
       "      <td>WEEKDAYS</td>\n",
       "    </tr>\n",
       "    <tr>\n",
       "      <th>...</th>\n",
       "      <td>...</td>\n",
       "      <td>...</td>\n",
       "      <td>...</td>\n",
       "      <td>...</td>\n",
       "      <td>...</td>\n",
       "    </tr>\n",
       "    <tr>\n",
       "      <th>2801</th>\n",
       "      <td>Williamsburg</td>\n",
       "      <td>2018-12-27</td>\n",
       "      <td>941</td>\n",
       "      <td>0.089267</td>\n",
       "      <td>WEEKDAYS</td>\n",
       "    </tr>\n",
       "    <tr>\n",
       "      <th>2802</th>\n",
       "      <td>Williamsburg</td>\n",
       "      <td>2018-12-28</td>\n",
       "      <td>941</td>\n",
       "      <td>0.127524</td>\n",
       "      <td>WEEKDAYS</td>\n",
       "    </tr>\n",
       "    <tr>\n",
       "      <th>2803</th>\n",
       "      <td>Williamsburg</td>\n",
       "      <td>2018-12-29</td>\n",
       "      <td>942</td>\n",
       "      <td>0.093418</td>\n",
       "      <td>WEEKENDS</td>\n",
       "    </tr>\n",
       "    <tr>\n",
       "      <th>2804</th>\n",
       "      <td>Williamsburg</td>\n",
       "      <td>2018-12-30</td>\n",
       "      <td>933</td>\n",
       "      <td>0.114684</td>\n",
       "      <td>WEEKENDS</td>\n",
       "    </tr>\n",
       "    <tr>\n",
       "      <th>2805</th>\n",
       "      <td>Williamsburg</td>\n",
       "      <td>2018-12-31</td>\n",
       "      <td>957</td>\n",
       "      <td>0.114943</td>\n",
       "      <td>WEEKDAYS</td>\n",
       "    </tr>\n",
       "  </tbody>\n",
       "</table>\n",
       "<p>2806 rows × 5 columns</p>\n",
       "</div>"
      ],
      "text/plain": [
       "       RESTAURANTS       DATE  NUM_ORD  PERC_DELIVERY  DAY_TYPE\n",
       "0      Bryant Park 2018-01-01      373       0.000000  WEEKDAYS\n",
       "1      Bryant Park 2018-01-02      789       0.000000  WEEKDAYS\n",
       "2      Bryant Park 2018-01-03      818       0.000000  WEEKDAYS\n",
       "3      Bryant Park 2018-01-04      782       0.000000  WEEKDAYS\n",
       "4      Bryant Park 2018-01-05      719       0.000000  WEEKDAYS\n",
       "...            ...        ...      ...            ...       ...\n",
       "2801  Williamsburg 2018-12-27      941       0.089267  WEEKDAYS\n",
       "2802  Williamsburg 2018-12-28      941       0.127524  WEEKDAYS\n",
       "2803  Williamsburg 2018-12-29      942       0.093418  WEEKENDS\n",
       "2804  Williamsburg 2018-12-30      933       0.114684  WEEKENDS\n",
       "2805  Williamsburg 2018-12-31      957       0.114943  WEEKDAYS\n",
       "\n",
       "[2806 rows x 5 columns]"
      ]
     },
     "execution_count": 24,
     "metadata": {},
     "output_type": "execute_result"
    }
   ],
   "source": [
    "df_summarized_orders.loc[df_summarized_orders.DATE.dt.weekday < 5, 'DAY_TYPE'] = 'WEEKDAYS'\n",
    "df_summarized_orders.loc[df_summarized_orders.DATE.dt.weekday > 4, 'DAY_TYPE'] = 'WEEKENDS'\n",
    "df_summarized_orders"
   ]
  },
  {
   "cell_type": "markdown",
   "id": "704d77bb",
   "metadata": {},
   "source": [
    "After tagging the data based on its type of day, we need to sum every order in the given groups. "
   ]
  },
  {
   "cell_type": "code",
   "execution_count": 25,
   "id": "5e1c9ae8",
   "metadata": {},
   "outputs": [
    {
     "data": {
      "text/plain": [
       "RESTAURANTS      DAY_TYPE\n",
       "Bryant Park      WEEKDAYS    227445\n",
       "Columbia         WEEKDAYS    178930\n",
       "                 WEEKENDS     71880\n",
       "Flatiron         WEEKDAYS    230495\n",
       "                 WEEKENDS     51488\n",
       "Midtown          WEEKDAYS    266121\n",
       "                 WEEKENDS     59144\n",
       "NYU              WEEKDAYS    306664\n",
       "                 WEEKENDS    124196\n",
       "Upper East Side  WEEKDAYS    194268\n",
       "                 WEEKENDS     80733\n",
       "Upper West Side  WEEKDAYS    200462\n",
       "                 WEEKENDS     80724\n",
       "Williamsburg     WEEKDAYS    224101\n",
       "                 WEEKENDS     90573\n",
       "Name: NUM_ORD, dtype: int64"
      ]
     },
     "execution_count": 25,
     "metadata": {},
     "output_type": "execute_result"
    }
   ],
   "source": [
    "df_summarized_orders.groupby(['RESTAURANTS', 'DAY_TYPE'])['NUM_ORD'].sum()"
   ]
  },
  {
   "cell_type": "markdown",
   "id": "04daac1d",
   "metadata": {},
   "source": [
    "Let's create a bar chart based on the given data to make analysing the data easier."
   ]
  },
  {
   "cell_type": "code",
   "execution_count": 26,
   "id": "71a0a30b",
   "metadata": {},
   "outputs": [
    {
     "data": {
      "text/plain": [
       "<matplotlib.legend.Legend at 0x218dc4b3c70>"
      ]
     },
     "execution_count": 26,
     "metadata": {},
     "output_type": "execute_result"
    },
    {
     "data": {
      "image/png": "[encoded data removed]",
      "text/plain": [
       "<Figure size 640x480 with 1 Axes>"
      ]
     },
     "metadata": {},
     "output_type": "display_data"
    }
   ],
   "source": [
    "df_grouped = df_summarized_orders.groupby(['RESTAURANTS', 'DAY_TYPE'])['NUM_ORD'].sum().unstack()\n",
    "ax = df_grouped.plot(kind='bar')\n",
    "ax.set_title('Number of Orders by Restaurants and Day Type')\n",
    "ax.set_ylabel('Number of Orders')\n",
    "ax.set_xlabel('Restaurant')\n",
    "ax.set_xticklabels(df_grouped.index, rotation=45)\n",
    "ax.legend(title='Day Type')"
   ]
  },
  {
   "cell_type": "markdown",
   "id": "1ab397a4",
   "metadata": {},
   "source": [
    "**Answer** : based on the given data, we could see that NYU has the largest weekday and weekend orders. The second largest sales on weekdays was Flatiron, and the second largest on weekends was Williamsburg. As additional information, while Bryant Park was not operating on the weekend, its weekday sales are the fourth largest among other restaurants."
   ]
  }
 ],
 "metadata": {
  "kernelspec": {
   "display_name": "Python 3 (ipykernel)",
   "language": "python",
   "name": "python3"
  },
  "language_info": {
   "codemirror_mode": {
    "name": "ipython",
    "version": 3
   },
   "file_extension": ".py",
   "mimetype": "text/x-python",
   "name": "python",
   "nbconvert_exporter": "python",
   "pygments_lexer": "ipython3",
   "version": "3.9.13"
  }
 },
 "nbformat": 4,
 "nbformat_minor": 5
}
